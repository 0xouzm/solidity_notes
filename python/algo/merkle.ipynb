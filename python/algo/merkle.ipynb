{
 "cells": [
  {
   "cell_type": "code",
   "execution_count": 1,
   "id": "e6eb7793-c4e2-40e4-9770-87c289ced011",
   "metadata": {},
   "outputs": [
    {
     "name": "stdout",
     "output_type": "stream",
     "text": [
      "[2, 5, 3, 1, 4, 6, 0]\n"
     ]
    },
    {
     "data": {
      "text/plain": [
       "True"
      ]
     },
     "execution_count": 1,
     "metadata": {},
     "output_type": "execute_result"
    }
   ],
   "source": [
    "import hashlib\n",
    "\n",
    "def hash_leaf(leaf: str) -> str:\n",
    "    # return f'h({leaf})'\n",
    "    return hashlib.sha256(leaf.encode()).hexdigest()\n",
    "\n",
    "def hash_pair(left: str, right: str) -> str:\n",
    "    # return f'h({left}, {right})'\n",
    "    return hashlib.sha256((left + right).encode()).hexdigest()\n",
    "\n",
    "def cut(s: str) -> str:\n",
    "    return s[:5] + \"...\"\n",
    "\n",
    "def calc_root(leaves: list[str]) -> list[list[str]]:\n",
    "    tree = [[hash_leaf(l) for l in leaves]]\n",
    "    tree[0].sort()\n",
    "\n",
    "    n = len(tree[0])\n",
    "\n",
    "    while n > 1:\n",
    "        tree.append([])\n",
    "        for i in range(0, n, 2):\n",
    "            left = tree[-2][i]\n",
    "            right = tree[-2][min(i + 1, n - 1)]\n",
    "            if left > right:\n",
    "                left, right = right, left\n",
    "            tree[-1].append(hash_pair(left, right))\n",
    "        n = (n + (n % 2)) // 2\n",
    "\n",
    "    tree.reverse()\n",
    "\n",
    "    return tree\n",
    "\n",
    "def get_proof(leaves: list[str], index: int) -> list[str]:\n",
    "    proof = []\n",
    "\n",
    "    hashes = [hash_leaf(l) for l in leaves]\n",
    "    hashes.sort()\n",
    "\n",
    "    n = len(hashes)\n",
    "    k = index\n",
    "\n",
    "    while n > 1:\n",
    "        j = k - 1 if k & 1 else min(k + 1, n - 1)\n",
    "        h = hashes[j]\n",
    "        proof.append(h)\n",
    "        k >>= 1\n",
    "        \n",
    "        for i in range(0, n, 2):\n",
    "            left = hashes[i]\n",
    "            right = hashes[min(i + 1, n - 1)]\n",
    "            if left > right:\n",
    "                left, right = right, left\n",
    "            hashes[i >> 1] = hash_pair(left, right)\n",
    "        n = (n + (n & 1)) >> 1\n",
    "\n",
    "    return proof\n",
    "\n",
    "def verify(proof: list[str], root: str, leaf: str) -> bool:\n",
    "    h = hash_leaf(leaf)\n",
    "\n",
    "    for p in proof:\n",
    "        left = h\n",
    "        right = p\n",
    "        if left > right:\n",
    "            left, right = right, left\n",
    "        h = hash_pair(left, right)\n",
    "\n",
    "    return h == root\n",
    "    \n",
    "\n",
    "leaves = [\"A\", \"B\", \"C\", \"D\", \"E\", \"F\", \"G\"]\n",
    "hash_leaves = [hash_leaf(l) for l in leaves]\n",
    "hash_leaves.sort()\n",
    "\n",
    "indexes = [hash_leaves.index(hash_leaf(l)) for l in leaves]\n",
    "print(indexes)\n",
    "\n",
    "tree = calc_root(leaves)\n",
    "root = tree[0][0]\n",
    "proof = get_proof(leaves, indexes[2])\n",
    "verify(proof, root, leaves[2])"
   ]
  },
  {
   "cell_type": "code",
   "execution_count": null,
   "id": "53c54d6d-9a85-45ee-8d17-f5f96eb89e40",
   "metadata": {},
   "outputs": [],
   "source": []
  }
 ],
 "metadata": {
  "kernelspec": {
   "display_name": "Python 3 (ipykernel)",
   "language": "python",
   "name": "python3"
  },
  "language_info": {
   "codemirror_mode": {
    "name": "ipython",
    "version": 3
   },
   "file_extension": ".py",
   "mimetype": "text/x-python",
   "name": "python",
   "nbconvert_exporter": "python",
   "pygments_lexer": "ipython3",
   "version": "3.13.7"
  }
 },
 "nbformat": 4,
 "nbformat_minor": 5
}
