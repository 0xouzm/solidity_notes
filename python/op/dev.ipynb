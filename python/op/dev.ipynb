{
 "cells": [
  {
   "cell_type": "code",
   "execution_count": 3,
   "id": "245fc269-2d38-455e-a52c-49b70bb8f4d6",
   "metadata": {},
   "outputs": [
    {
     "name": "stdout",
     "output_type": "stream",
     "text": [
      "duration 2 timestamp 1\n"
     ]
    }
   ],
   "source": [
    "from udt import Clock\n",
    "clock = Clock.wrap(2, 1)\n",
    "print(\"duration\", Clock.duration(clock), \"timestamp\", Clock.timestamp(clock))"
   ]
  },
  {
   "cell_type": "code",
   "execution_count": 4,
   "id": "6fe02a77-a42c-489b-91c8-3ac48eb92676",
   "metadata": {},
   "outputs": [
    {
     "name": "stdout",
     "output_type": "stream",
     "text": [
      "Defaulting to user installation because normal site-packages is not writeable\n",
      "Collecting graphviz\n",
      "  Downloading graphviz-0.20.3-py3-none-any.whl (47 kB)\n",
      "     |████████████████████████████████| 47 kB 1.9 MB/s             \n",
      "\u001b[?25hInstalling collected packages: graphviz\n",
      "Successfully installed graphviz-0.20.3\n"
     ]
    }
   ],
   "source": [
    "!pip install graphviz"
   ]
  },
  {
   "cell_type": "code",
   "execution_count": 1,
   "id": "a7943f57-b9be-4168-a63e-cf3acf9ed41d",
   "metadata": {},
   "outputs": [],
   "source": [
    "from tree import Node, insert, vis\n",
    "\n",
    "root = Node(1)\n",
    "for key in range(2, 20):\n",
    "    insert(root, key)\n",
    "\n",
    "vis(root)"
   ]
  },
  {
   "cell_type": "code",
   "execution_count": null,
   "id": "5354e1a5-7574-49a4-b458-c7b3f98f98f7",
   "metadata": {},
   "outputs": [],
   "source": [
    "!pip install web3"
   ]
  },
  {
   "cell_type": "code",
   "execution_count": 2,
   "id": "d2f5aa61-881c-42f2-8bf5-38afa6e70975",
   "metadata": {},
   "outputs": [
    {
     "data": {
      "text/plain": [
       "'0xada5013122d395ba3c54772283fb069b10426056ef8ca54750cb9bb552a59e7d'"
      ]
     },
     "execution_count": 2,
     "metadata": {},
     "output_type": "execute_result"
    }
   ],
   "source": [
    "from web3 import Web3\n",
    "\n",
    "def hash_claim(challenge_pos: int, subgame_idx: int) -> str:\n",
    "    vals = [\n",
    "        challenge_pos,\n",
    "        subgame_idx\n",
    "    ]\n",
    "    types = [\n",
    "        'uint256', \n",
    "        'uint256'\n",
    "    ]\n",
    "    # keccak256(abi.encodePacked(...))\n",
    "    return Web3.solidity_keccak(types, vals).hex()\n",
    "\n",
    "hash_claim(1, 0)"
   ]
  },
  {
   "cell_type": "code",
   "execution_count": 3,
   "id": "b5bddad4-dbbe-47d0-8525-1d52ba9c7b58",
   "metadata": {},
   "outputs": [
    {
     "name": "stdout",
     "output_type": "stream",
     "text": [
      "aaa 0xada5013122d395ba3c54772283fb069b10426056ef8ca54750cb9bb552a59e7d\n"
     ]
    },
    {
     "ename": "AssertionError",
     "evalue": "",
     "output_type": "error",
     "traceback": [
      "\u001b[0;31m---------------------------------------------------------------------------\u001b[0m",
      "\u001b[0;31mAssertionError\u001b[0m                            Traceback (most recent call last)",
      "Cell \u001b[0;32mIn[3], line 16\u001b[0m\n\u001b[1;32m      5\u001b[0m game \u001b[38;5;241m=\u001b[39m FaultDisputeGame()\n\u001b[1;32m      6\u001b[0m game\u001b[38;5;241m.\u001b[39minitialize(\n\u001b[1;32m      7\u001b[0m     l2_root \u001b[38;5;241m=\u001b[39m \u001b[38;5;124m\"\u001b[39m\u001b[38;5;124maaa\u001b[39m\u001b[38;5;124m\"\u001b[39m,\n\u001b[1;32m      8\u001b[0m     l2_block_num \u001b[38;5;241m=\u001b[39m \u001b[38;5;241m1\u001b[39m,\n\u001b[0;32m   (...)\u001b[0m\n\u001b[1;32m     13\u001b[0m     block_timestamp \u001b[38;5;241m=\u001b[39m \u001b[38;5;241m1\u001b[39m\n\u001b[1;32m     14\u001b[0m )\n\u001b[0;32m---> 16\u001b[0m \u001b[43mgame\u001b[49m\u001b[38;5;241;43m.\u001b[39;49m\u001b[43mmove\u001b[49m\u001b[43m(\u001b[49m\n\u001b[1;32m     17\u001b[0m \u001b[43m    \u001b[49m\u001b[43mhash_claim\u001b[49m\u001b[43m(\u001b[49m\u001b[38;5;241;43m1\u001b[39;49m\u001b[43m,\u001b[49m\u001b[43m \u001b[49m\u001b[38;5;241;43m0\u001b[39;49m\u001b[43m)\u001b[49m\u001b[43m,\u001b[49m\u001b[43m \u001b[49m\n\u001b[1;32m     18\u001b[0m \u001b[43m    \u001b[49m\u001b[38;5;241;43m0\u001b[39;49m\u001b[43m,\u001b[49m\u001b[43m \u001b[49m\n\u001b[1;32m     19\u001b[0m \u001b[43m    \u001b[49m\u001b[43mhash_claim\u001b[49m\u001b[43m(\u001b[49m\u001b[38;5;241;43m2\u001b[39;49m\u001b[43m,\u001b[49m\u001b[43m \u001b[49m\u001b[38;5;241;43m0\u001b[39;49m\u001b[43m)\u001b[49m\u001b[43m,\u001b[49m\u001b[43m \u001b[49m\n\u001b[1;32m     20\u001b[0m \u001b[43m    \u001b[49m\u001b[38;5;28;43;01mTrue\u001b[39;49;00m\u001b[43m,\u001b[49m\u001b[43m \u001b[49m\n\u001b[1;32m     21\u001b[0m \u001b[43m    \u001b[49m\u001b[43mmsg_value\u001b[49m\u001b[43m \u001b[49m\u001b[38;5;241;43m=\u001b[39;49m\u001b[43m \u001b[49m\u001b[38;5;241;43m0\u001b[39;49m\u001b[43m,\u001b[49m\u001b[43m \u001b[49m\n\u001b[1;32m     22\u001b[0m \u001b[43m    \u001b[49m\u001b[43mblock_timestamp\u001b[49m\u001b[43m \u001b[49m\u001b[38;5;241;43m=\u001b[39;49m\u001b[43m \u001b[49m\u001b[38;5;241;43m1\u001b[39;49m\u001b[43m,\u001b[49m\n\u001b[1;32m     23\u001b[0m \u001b[43m    \u001b[49m\u001b[43mmsg_sender\u001b[49m\u001b[43m \u001b[49m\u001b[38;5;241;43m=\u001b[39;49m\u001b[43m \u001b[49m\u001b[38;5;124;43m\"\u001b[39;49m\u001b[38;5;124;43mchallenger\u001b[39;49m\u001b[38;5;124;43m\"\u001b[39;49m\u001b[43m,\u001b[49m\n\u001b[1;32m     24\u001b[0m \u001b[43m)\u001b[49m\n",
      "File \u001b[0;32m~/bkp/dev/t4sk/notes/python/op/game.py:109\u001b[0m, in \u001b[0;36mFaultDisputeGame.move\u001b[0;34m(self, disputed, challenge_idx, claim, is_attack, **kwargs)\u001b[0m\n\u001b[1;32m    107\u001b[0m parent \u001b[38;5;241m=\u001b[39m \u001b[38;5;28mself\u001b[39m\u001b[38;5;241m.\u001b[39mclaim_data[challenge_idx]\n\u001b[1;32m    108\u001b[0m \u001b[38;5;28mprint\u001b[39m(parent\u001b[38;5;241m.\u001b[39mclaim, disputed)\n\u001b[0;32m--> 109\u001b[0m \u001b[38;5;28;01massert\u001b[39;00m parent\u001b[38;5;241m.\u001b[39mclaim \u001b[38;5;241m==\u001b[39m disputed\n\u001b[1;32m    111\u001b[0m parent_pos \u001b[38;5;241m=\u001b[39m parent\u001b[38;5;241m.\u001b[39mposition\n\u001b[1;32m    112\u001b[0m next_pos \u001b[38;5;241m=\u001b[39m Position\u001b[38;5;241m.\u001b[39mmove(parent_pos, is_attack)\n",
      "\u001b[0;31mAssertionError\u001b[0m: "
     ]
    }
   ],
   "source": [
    "from game import FaultDisputeGame\n",
    "from pprint import pprint\n",
    "import json\n",
    "\n",
    "game = FaultDisputeGame()\n",
    "game.initialize(\n",
    "    l2_root = \"aaa\",\n",
    "    l2_block_num = 1,\n",
    "    root_claim = \"aaa\",\n",
    "    game_creator = \"a\",\n",
    "    bond = 1,\n",
    "    claim = hash_claim(1, 0),\n",
    "    block_timestamp = 1\n",
    ")\n",
    "\n",
    "game.move(\n",
    "    hash_claim(1, 0), \n",
    "    0, \n",
    "    hash_claim(2, 0), \n",
    "    True, \n",
    "    msg_value = 0, \n",
    "    block_timestamp = 1,\n",
    "    msg_sender = \"challenger\",\n",
    ")"
   ]
  },
  {
   "cell_type": "code",
   "execution_count": 2,
   "id": "19b30ff4-8503-46bc-a26c-3f0f15edaf95",
   "metadata": {},
   "outputs": [
    {
     "data": {
      "text/plain": [
       "<VMStatus.INVALID: 1>"
      ]
     },
     "execution_count": 2,
     "metadata": {},
     "output_type": "execute_result"
    }
   ],
   "source": [
    "from game_types import VMStatus\n",
    "\n",
    "VMStatus(1)"
   ]
  }
 ],
 "metadata": {
  "kernelspec": {
   "display_name": "Python 3 (ipykernel)",
   "language": "python",
   "name": "python3"
  },
  "language_info": {
   "codemirror_mode": {
    "name": "ipython",
    "version": 3
   },
   "file_extension": ".py",
   "mimetype": "text/x-python",
   "name": "python",
   "nbconvert_exporter": "python",
   "pygments_lexer": "ipython3",
   "version": "3.10.11"
  }
 },
 "nbformat": 4,
 "nbformat_minor": 5
}
