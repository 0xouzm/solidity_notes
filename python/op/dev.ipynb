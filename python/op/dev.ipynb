{
 "cells": [
  {
   "cell_type": "code",
   "execution_count": 4,
   "id": "6fe02a77-a42c-489b-91c8-3ac48eb92676",
   "metadata": {},
   "outputs": [
    {
     "name": "stdout",
     "output_type": "stream",
     "text": [
      "Defaulting to user installation because normal site-packages is not writeable\n",
      "Collecting graphviz\n",
      "  Downloading graphviz-0.20.3-py3-none-any.whl (47 kB)\n",
      "     |████████████████████████████████| 47 kB 1.9 MB/s             \n",
      "\u001b[?25hInstalling collected packages: graphviz\n",
      "Successfully installed graphviz-0.20.3\n"
     ]
    }
   ],
   "source": [
    "!pip install graphviz\n",
    "!pip install web3"
   ]
  },
  {
   "cell_type": "code",
   "execution_count": 1,
   "id": "a7943f57-b9be-4168-a63e-cf3acf9ed41d",
   "metadata": {},
   "outputs": [],
   "source": [
    "from tree import Node, insert, vis\n",
    "\n",
    "root = Node(1)\n",
    "for key in range(2, 20):\n",
    "    insert(root, key)\n",
    "\n",
    "vis(root)"
   ]
  },
  {
   "cell_type": "code",
   "execution_count": 1,
   "id": "b5bddad4-dbbe-47d0-8525-1d52ba9c7b58",
   "metadata": {},
   "outputs": [
    {
     "name": "stdout",
     "output_type": "stream",
     "text": [
      "HERE 0 1 0\n",
      "HERE 0 302400.0 1\n",
      "302399 302400\n"
     ]
    },
    {
     "ename": "AssertionError",
     "evalue": "",
     "output_type": "error",
     "traceback": [
      "\u001b[0;31m---------------------------------------------------------------------------\u001b[0m",
      "\u001b[0;31mAssertionError\u001b[0m                            Traceback (most recent call last)",
      "Cell \u001b[0;32mIn[1], line 50\u001b[0m\n\u001b[1;32m     39\u001b[0m game\u001b[38;5;241m.\u001b[39mmove(\n\u001b[1;32m     40\u001b[0m     disputed \u001b[38;5;241m=\u001b[39m hash_str(\u001b[38;5;124m\"\u001b[39m\u001b[38;5;124mroot\u001b[39m\u001b[38;5;124m\"\u001b[39m), \n\u001b[1;32m     41\u001b[0m     challenge_idx \u001b[38;5;241m=\u001b[39m \u001b[38;5;241m0\u001b[39m, \n\u001b[0;32m   (...)\u001b[0m\n\u001b[1;32m     46\u001b[0m     msg_sender \u001b[38;5;241m=\u001b[39m \u001b[38;5;124m\"\u001b[39m\u001b[38;5;124mchallenger\u001b[39m\u001b[38;5;124m\"\u001b[39m,\n\u001b[1;32m     47\u001b[0m )\n\u001b[1;32m     49\u001b[0m block\u001b[38;5;241m.\u001b[39mwarp(MAX_CLOCK_DURATION)\n\u001b[0;32m---> 50\u001b[0m \u001b[43mgame\u001b[49m\u001b[38;5;241;43m.\u001b[39;49m\u001b[43mresolve_claim\u001b[49m\u001b[43m(\u001b[49m\u001b[38;5;241;43m1\u001b[39;49m\u001b[43m,\u001b[49m\u001b[43m \u001b[49m\u001b[38;5;241;43m0\u001b[39;49m\u001b[43m,\u001b[49m\u001b[43m \u001b[49m\u001b[43mblock_timestamp\u001b[49m\u001b[43m \u001b[49m\u001b[38;5;241;43m=\u001b[39;49m\u001b[43m \u001b[49m\u001b[43mblock\u001b[49m\u001b[38;5;241;43m.\u001b[39;49m\u001b[43mtimestamp\u001b[49m\u001b[43m)\u001b[49m\n",
      "File \u001b[0;32m~/bkp/dev/t4sk/notes/python/op/game.py:190\u001b[0m, in \u001b[0;36mFaultDisputeGame.resolve_claim\u001b[0;34m(self, claim_idx, num_to_resolve, **kwargs)\u001b[0m\n\u001b[1;32m    187\u001b[0m challenge_dur \u001b[38;5;241m=\u001b[39m \u001b[38;5;28mself\u001b[39m\u001b[38;5;241m.\u001b[39mget_challenger_duration(claim_idx, \u001b[38;5;241m*\u001b[39m\u001b[38;5;241m*\u001b[39mkwargs)\n\u001b[1;32m    189\u001b[0m \u001b[38;5;28mprint\u001b[39m(challenge_dur, MAX_CLOCK_DURATION)\n\u001b[0;32m--> 190\u001b[0m \u001b[38;5;28;01massert\u001b[39;00m challenge_dur \u001b[38;5;241m>\u001b[39m\u001b[38;5;241m=\u001b[39m MAX_CLOCK_DURATION\n\u001b[1;32m    191\u001b[0m \u001b[38;5;28;01massert\u001b[39;00m \u001b[38;5;129;01mnot\u001b[39;00m \u001b[38;5;28mself\u001b[39m\u001b[38;5;241m.\u001b[39mresolved_subgames[claim_idx]\n\u001b[1;32m    193\u001b[0m challenge_indexes \u001b[38;5;241m=\u001b[39m \u001b[38;5;28mself\u001b[39m\u001b[38;5;241m.\u001b[39msubgames[claim_idx]\n",
      "\u001b[0;31mAssertionError\u001b[0m: "
     ]
    }
   ],
   "source": [
    "from block import Block\n",
    "from game import FaultDisputeGame\n",
    "from pprint import pprint\n",
    "import json\n",
    "from web3 import Web3\n",
    "\n",
    "ABSOLUTE_PRESTATE = \"0\"\n",
    "MAX_GAME_DEPTH = 73\n",
    "SPLIT_DEPTH = 30\n",
    "MAX_CLOCK_DURATION = 3.5 * 24 * 3600\n",
    "CLOCK_EXTENSION = 3 * 3600\n",
    "CHALLENGE_PERIOD = 24 * 3600\n",
    "\n",
    "def hash_str(s: str) -> str:\n",
    "    vals = [s]\n",
    "    types = ['string']\n",
    "    # keccak256(abi.encodePacked(...))\n",
    "    return Web3.solidity_keccak(types, vals).hex()\n",
    "\n",
    "block = Block()\n",
    "game = FaultDisputeGame()\n",
    "game.initialize(\n",
    "    l2_root = hash_str(\"l2 root\"),\n",
    "    l2_block_num = 1,\n",
    "    root_claim = hash_str(\"root\"),\n",
    "    game_creator = \"defender\",\n",
    "    bond = 1,\n",
    "    block_timestamp = block.timestamp\n",
    ")\n",
    "\n",
    "###  no challenge -> defender wins ###\n",
    "# block.warp(MAX_CLOCK_DURATION)\n",
    "# game.resolve_claim(0, 0, block_timestamp = block.timestamp\n",
    "# game.resolve()\n",
    "# game.status\n",
    "\n",
    "### attack -> challenger wins ###\n",
    "block.inc()\n",
    "game.move(\n",
    "    disputed = hash_str(\"root\"), \n",
    "    challenge_idx = 0, \n",
    "    claim = hash_str(\"2,0\"), \n",
    "    is_attack = True, \n",
    "    msg_value = 0, \n",
    "    block_timestamp = block.timestamp,\n",
    "    msg_sender = \"challenger\",\n",
    ")\n",
    "\n",
    "block.warp(MAX_CLOCK_DURATION)\n",
    "game.resolve_claim(1, 0, block_timestamp = block.timestamp)\n",
    "\n",
    "# game.resolve_claim(0, 0, block_timestamp = block.timestamp)\n",
    "# game.resolve()\n",
    "# game.status\n"
   ]
  },
  {
   "cell_type": "code",
   "execution_count": 2,
   "id": "19b30ff4-8503-46bc-a26c-3f0f15edaf95",
   "metadata": {},
   "outputs": [
    {
     "data": {
      "text/plain": [
       "<VMStatus.INVALID: 1>"
      ]
     },
     "execution_count": 2,
     "metadata": {},
     "output_type": "execute_result"
    }
   ],
   "source": [
    "from game_types import VMStatus\n",
    "\n",
    "VMStatus(1)"
   ]
  }
 ],
 "metadata": {
  "kernelspec": {
   "display_name": "Python 3 (ipykernel)",
   "language": "python",
   "name": "python3"
  },
  "language_info": {
   "codemirror_mode": {
    "name": "ipython",
    "version": 3
   },
   "file_extension": ".py",
   "mimetype": "text/x-python",
   "name": "python",
   "nbconvert_exporter": "python",
   "pygments_lexer": "ipython3",
   "version": "3.10.11"
  }
 },
 "nbformat": 4,
 "nbformat_minor": 5
}
