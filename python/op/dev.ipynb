{
 "cells": [
  {
   "cell_type": "code",
   "execution_count": 1,
   "id": "b88e5ba3-29c2-4f47-a267-b6ae88d23ba2",
   "metadata": {},
   "outputs": [],
   "source": [
    "from clock import Clock"
   ]
  },
  {
   "cell_type": "code",
   "execution_count": 2,
   "id": "245fc269-2d38-455e-a52c-49b70bb8f4d6",
   "metadata": {},
   "outputs": [
    {
     "name": "stdout",
     "output_type": "stream",
     "text": [
      "duration 2 timestamp 1\n"
     ]
    }
   ],
   "source": [
    "clock = Clock.wrap(2, 1)\n",
    "print(\"duration\", Clock.duration(clock), \"timestamp\", Clock.timestamp(clock))"
   ]
  }
 ],
 "metadata": {
  "kernelspec": {
   "display_name": "Python 3 (ipykernel)",
   "language": "python",
   "name": "python3"
  },
  "language_info": {
   "codemirror_mode": {
    "name": "ipython",
    "version": 3
   },
   "file_extension": ".py",
   "mimetype": "text/x-python",
   "name": "python",
   "nbconvert_exporter": "python",
   "pygments_lexer": "ipython3",
   "version": "3.10.11"
  }
 },
 "nbformat": 4,
 "nbformat_minor": 5
}
