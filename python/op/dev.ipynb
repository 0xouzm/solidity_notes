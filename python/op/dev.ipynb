{
 "cells": [
  {
   "cell_type": "code",
   "execution_count": 3,
   "id": "245fc269-2d38-455e-a52c-49b70bb8f4d6",
   "metadata": {},
   "outputs": [
    {
     "name": "stdout",
     "output_type": "stream",
     "text": [
      "duration 2 timestamp 1\n"
     ]
    }
   ],
   "source": [
    "from udt import Clock\n",
    "clock = Clock.wrap(2, 1)\n",
    "print(\"duration\", Clock.duration(clock), \"timestamp\", Clock.timestamp(clock))"
   ]
  },
  {
   "cell_type": "code",
   "execution_count": 4,
   "id": "6fe02a77-a42c-489b-91c8-3ac48eb92676",
   "metadata": {},
   "outputs": [
    {
     "name": "stdout",
     "output_type": "stream",
     "text": [
      "Defaulting to user installation because normal site-packages is not writeable\n",
      "Collecting graphviz\n",
      "  Downloading graphviz-0.20.3-py3-none-any.whl (47 kB)\n",
      "     |████████████████████████████████| 47 kB 1.9 MB/s             \n",
      "\u001b[?25hInstalling collected packages: graphviz\n",
      "Successfully installed graphviz-0.20.3\n"
     ]
    }
   ],
   "source": [
    "!pip install graphviz"
   ]
  },
  {
   "cell_type": "code",
   "execution_count": 1,
   "id": "a7943f57-b9be-4168-a63e-cf3acf9ed41d",
   "metadata": {},
   "outputs": [],
   "source": [
    "from tree import Node, insert, vis\n",
    "\n",
    "root = Node(1)\n",
    "for key in range(2, 20):\n",
    "    insert(root, key)\n",
    "\n",
    "vis(root)"
   ]
  },
  {
   "cell_type": "code",
   "execution_count": null,
   "id": "5354e1a5-7574-49a4-b458-c7b3f98f98f7",
   "metadata": {},
   "outputs": [],
   "source": [
    "!pip install web3"
   ]
  },
  {
   "cell_type": "code",
   "execution_count": 1,
   "id": "d2f5aa61-881c-42f2-8bf5-38afa6e70975",
   "metadata": {},
   "outputs": [
    {
     "data": {
      "text/plain": [
       "'0x5dea92812f3ddbd0471ca40fe852ce8326c34bc631fd67f661135db9fa6af408'"
      ]
     },
     "execution_count": 1,
     "metadata": {},
     "output_type": "execute_result"
    }
   ],
   "source": [
    "from udt import Claim\n",
    "from lib import hex_to_bytes32\n",
    "\n",
    "claim = hex_to_bytes32(\"0x01\")\n",
    "pos = 123\n",
    "challenge_index = 456\n",
    "\n",
    "h = Claim.hash_claim_pos(claim, pos, challenge_index)\n",
    "h"
   ]
  },
  {
   "cell_type": "code",
   "execution_count": 1,
   "id": "b5bddad4-dbbe-47d0-8525-1d52ba9c7b58",
   "metadata": {},
   "outputs": [],
   "source": [
    "from game import FaultDisputeGame\n",
    "from pprint import pprint\n",
    "import json\n",
    "\n",
    "game = FaultDisputeGame()\n",
    "game.initialize(\n",
    "    l2_root = \"aaa\",\n",
    "    l2_block_num = 1,\n",
    "    root_claim = \"aaa\",\n",
    "    game_creator = \"a\",\n",
    "    bond = 1,\n",
    "    claim = \"root claim\",\n",
    "    block_timestamp = 1\n",
    ")\n"
   ]
  }
 ],
 "metadata": {
  "kernelspec": {
   "display_name": "Python 3 (ipykernel)",
   "language": "python",
   "name": "python3"
  },
  "language_info": {
   "codemirror_mode": {
    "name": "ipython",
    "version": 3
   },
   "file_extension": ".py",
   "mimetype": "text/x-python",
   "name": "python",
   "nbconvert_exporter": "python",
   "pygments_lexer": "ipython3",
   "version": "3.10.11"
  }
 },
 "nbformat": 4,
 "nbformat_minor": 5
}
