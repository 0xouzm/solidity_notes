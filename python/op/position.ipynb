{
 "cells": [
  {
   "cell_type": "code",
   "execution_count": 2,
   "id": "741efedb-38ef-40dd-9842-96f6fcca7df8",
   "metadata": {},
   "outputs": [
    {
     "name": "stdout",
     "output_type": "stream",
     "text": [
      "pos 0 ancestor 1\n",
      "pos 1 ancestor 1\n",
      "pos 2 ancestor 2\n",
      "pos 3 ancestor 1\n",
      "pos 4 ancestor 4\n",
      "pos 5 ancestor 2\n",
      "pos 6 ancestor 6\n",
      "pos 7 ancestor 1\n"
     ]
    },
    {
     "data": {
      "text/plain": [
       "5"
      ]
     },
     "execution_count": 2,
     "metadata": {},
     "output_type": "execute_result"
    }
   ],
   "source": [
    "from position import Position\n",
    "\n",
    "Position.wrap(0, 0)\n",
    "Position.depth(4)\n",
    "Position.index_at_depth(4)\n",
    "Position.right_index(4, 4)\n",
    "Position.trace_index(4, 4)\n",
    "for i in range(0, 8):\n",
    "    print(\"pos\", i, \"ancestor\", Position.trace_ancestor(i))\n",
    "Position.trace_ancestor_bounded(11, 1)"
   ]
  }
 ],
 "metadata": {
  "kernelspec": {
   "display_name": "Python 3 (ipykernel)",
   "language": "python",
   "name": "python3"
  },
  "language_info": {
   "codemirror_mode": {
    "name": "ipython",
    "version": 3
   },
   "file_extension": ".py",
   "mimetype": "text/x-python",
   "name": "python",
   "nbconvert_exporter": "python",
   "pygments_lexer": "ipython3",
   "version": "3.10.11"
  }
 },
 "nbformat": 4,
 "nbformat_minor": 5
}
