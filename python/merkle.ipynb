{
 "cells": [
  {
   "cell_type": "code",
   "execution_count": 17,
   "id": "e6eb7793-c4e2-40e4-9770-87c289ced011",
   "metadata": {},
   "outputs": [
    {
     "name": "stdout",
     "output_type": "stream",
     "text": [
      "[2, 5, 3, 1, 4, 6, 0]\n"
     ]
    },
    {
     "data": {
      "text/plain": [
       "[['2359508bfcc5ea80358681e7e6e3bef69a42f89b7c9ace3d03afd8a0a8e91d93'],\n",
       " ['46bd38e72b1b95c2de6a8d892c2bad280ebaa9e1bb49a762d1911d78305675ae',\n",
       "  'a0fbead813b245f415da5101342261b838a8cdb3e84cfe0ce2dc0a5970cf58fa'],\n",
       " ['38f403995062984c77a6fd8614d570a92fd75756f4a9b74548da52342efff22c',\n",
       "  '19987eabf525296722a0657aa2938229006cb897c7efbc7659a6d9073d49e614',\n",
       "  '97aa302b07ecd3b167757f4abc263dcd6dc53202b0b1428bfac81af0f53b7599',\n",
       "  '169e848b6f7b622734fbc1b43f83eab9f066f4bf7b5dbdb202d5d42f2a3cd1ca'],\n",
       " ['333e0a1e27815d0ceee55c473fe3dc93d56c63e3bee2b3b4aee8eed6d70191a3',\n",
       "  '3f39d5c348e5b79d06e842c114e6cc571583bbf44e4b0ebfda1a01ec05745d43',\n",
       "  '559aead08264d5795d3909718cdd05abd49572e84fe55590eef31a88a08fdffd',\n",
       "  '6b23c0d5f35d1b11f9b683f0b0a617355deb11277d91ae091d399c655b87940d',\n",
       "  'a9f51566bd6705f7ea6ad54bb9deb449f795582d6529a0e22207b8981233ec58',\n",
       "  'df7e70e5021544f4834bbee64a9e3789febc4be81470df629cad6ddb03320a5c',\n",
       "  'f67ab10ad4e4c53121b6a5fe4da9c10ddee905b978d3788d2723d7bfacbe28a9']]"
      ]
     },
     "execution_count": 17,
     "metadata": {},
     "output_type": "execute_result"
    }
   ],
   "source": [
    "import hashlib\n",
    "\n",
    "def hash_leaf(leaf: str) -> str:\n",
    "    # return f'h({leaf})'\n",
    "    return hashlib.sha256(leaf.encode()).hexdigest()\n",
    "\n",
    "def hash_pair(left: str, right: str) -> str:\n",
    "    # return f'h({left}, {right})'\n",
    "    return hashlib.sha256((left + right).encode()).hexdigest()\n",
    "\n",
    "def cut(s: str) -> str:\n",
    "    return s[:5] + \"...\"\n",
    "\n",
    "def calc_root(leaves: list[str]) -> list[list[str]]:\n",
    "    tree = [[hash_leaf(l) for l in leaves]]\n",
    "    tree[0].sort()\n",
    "\n",
    "    n = len(tree[0])\n",
    "\n",
    "    while n > 1:\n",
    "        tree.append([])\n",
    "        for i in range(0, n, 2):\n",
    "            left = tree[-2][i]\n",
    "            right = tree[-2][min(i + 1, n - 1)]\n",
    "            if left > right:\n",
    "                left, right = right, left\n",
    "            tree[-1].append(hash_pair(left, right))\n",
    "        n = (n + (n % 2)) // 2\n",
    "\n",
    "    tree.reverse()\n",
    "\n",
    "    return tree\n",
    "\n",
    "def get_proof():\n",
    "    pass\n",
    "\n",
    "def verify():\n",
    "    pass\n",
    "\n",
    "leaves = [\"A\", \"B\", \"C\", \"D\", \"E\", \"F\", \"G\"]\n",
    "hash_leaves = [hash_leaf(l) for l in leaves]\n",
    "hash_leaves.sort()\n",
    "\n",
    "indexes = [hash_leaves.index(hash_leaf(l)) for l in leaves]\n",
    "print(indexes)\n",
    "\n",
    "calc_root(leaves)"
   ]
  },
  {
   "cell_type": "code",
   "execution_count": null,
   "id": "53c54d6d-9a85-45ee-8d17-f5f96eb89e40",
   "metadata": {},
   "outputs": [],
   "source": []
  }
 ],
 "metadata": {
  "kernelspec": {
   "display_name": "Python 3 (ipykernel)",
   "language": "python",
   "name": "python3"
  },
  "language_info": {
   "codemirror_mode": {
    "name": "ipython",
    "version": 3
   },
   "file_extension": ".py",
   "mimetype": "text/x-python",
   "name": "python",
   "nbconvert_exporter": "python",
   "pygments_lexer": "ipython3",
   "version": "3.10.11"
  }
 },
 "nbformat": 4,
 "nbformat_minor": 5
}
