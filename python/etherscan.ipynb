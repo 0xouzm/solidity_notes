{
 "cells": [
  {
   "cell_type": "code",
   "execution_count": null,
   "id": "97c8e371-65ff-4abb-977f-389ca61ff184",
   "metadata": {},
   "outputs": [],
   "source": [
    "import requests\n",
    "import json\n",
    "import os\n",
    "\n",
    "DST = \"tmp\"\n",
    "API_KEY = \"ETHERSCAN API KEY\"\n",
    "ADDRESS = \"YOUR CONTRACT ADDRESS\"\n",
    "\n",
    "url = f\"https://api.etherscan.io/api?module=contract&action=getsourcecode&address={ADDRESS}&apikey={API_KEY}\"\n",
    "res = requests.get(url).json()\n",
    "\n",
    "result = res[\"result\"][0]\n",
    "source_code = result[\"SourceCode\"]\n",
    "\n",
    "fixed = source_code.strip()\n",
    "if fixed.startswith(\"{{\") and fixed.endswith(\"}}\"):\n",
    "    fixed = fixed[1:-1]\n",
    "\n",
    "try:\n",
    "    parsed = json.loads(fixed)\n",
    "    for file, content in parsed[\"sources\"].items():\n",
    "        file_name = os.path.basename(file)\n",
    "        file_path = os.path.join(DST, file_name)\n",
    "        print(file_path)\n",
    "        with open(file_path, \"w\") as f:\n",
    "            f.write(content[\"content\"])\n",
    "except Exception as e:\n",
    "    print(\"ERROR\", e)\n"
   ]
  }
 ],
 "metadata": {
  "kernelspec": {
   "display_name": "Python 3 (ipykernel)",
   "language": "python",
   "name": "python3"
  },
  "language_info": {
   "codemirror_mode": {
    "name": "ipython",
    "version": 3
   },
   "file_extension": ".py",
   "mimetype": "text/x-python",
   "name": "python",
   "nbconvert_exporter": "python",
   "pygments_lexer": "ipython3",
   "version": "3.13.7"
  }
 },
 "nbformat": 4,
 "nbformat_minor": 5
}
