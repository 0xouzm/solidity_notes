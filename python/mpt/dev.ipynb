{
 "cells": [
  {
   "cell_type": "code",
   "execution_count": 2,
   "id": "7da246d9-513b-4df2-9e61-db2aca401d72",
   "metadata": {},
   "outputs": [
    {
     "name": "stdout",
     "output_type": "stream",
     "text": [
      "Defaulting to user installation because normal site-packages is not writeable\n",
      "Requirement already satisfied: pycryptodome in /home/t4sk/.local/lib/python3.12/site-packages (3.20.0)\n",
      "Defaulting to user installation because normal site-packages is not writeable\n",
      "Collecting rlp\n",
      "  Obtaining dependency information for rlp from https://files.pythonhosted.org/packages/59/03/3ae09a1c43657d17530dd98de6e381cc66ac514daa67000ccf99afc808fc/rlp-4.0.1-py3-none-any.whl.metadata\n",
      "  Downloading rlp-4.0.1-py3-none-any.whl.metadata (4.6 kB)\n",
      "Collecting eth-utils>=2 (from rlp)\n",
      "  Obtaining dependency information for eth-utils>=2 from https://files.pythonhosted.org/packages/9e/5a/cfa1ba791233728236ca7cc32bbd18d1c84d4bbc735636cc57a9754a6c4d/eth_utils-4.1.1-py3-none-any.whl.metadata\n",
      "  Downloading eth_utils-4.1.1-py3-none-any.whl.metadata (5.4 kB)\n",
      "Collecting eth-hash>=0.3.1 (from eth-utils>=2->rlp)\n",
      "  Obtaining dependency information for eth-hash>=0.3.1 from https://files.pythonhosted.org/packages/73/f0/a35e791bd73fa425838d8d0157754150ded141a94cf30d567dfeb9d57316/eth_hash-0.7.0-py3-none-any.whl.metadata\n",
      "  Downloading eth_hash-0.7.0-py3-none-any.whl.metadata (5.4 kB)\n",
      "Collecting eth-typing>=3.0.0 (from eth-utils>=2->rlp)\n",
      "  Obtaining dependency information for eth-typing>=3.0.0 from https://files.pythonhosted.org/packages/d1/44/21268468472df94c5ef1ac45932bf71addf4bda4f01bfce3c4ffaae6902d/eth_typing-4.2.3-py3-none-any.whl.metadata\n",
      "  Downloading eth_typing-4.2.3-py3-none-any.whl.metadata (5.0 kB)\n",
      "Requirement already satisfied: cytoolz>=0.10.1 in /home/t4sk/.local/lib/python3.12/site-packages (from eth-utils>=2->rlp) (0.12.3)\n",
      "Requirement already satisfied: toolz>=0.8.0 in /home/t4sk/.local/lib/python3.12/site-packages (from cytoolz>=0.10.1->eth-utils>=2->rlp) (0.12.1)\n",
      "Downloading rlp-4.0.1-py3-none-any.whl (20 kB)\n",
      "Downloading eth_utils-4.1.1-py3-none-any.whl (96 kB)\n",
      "\u001b[2K   \u001b[38;2;114;156;31m━━━━━━━━━━━━━━━━━━━━━━━━━━━━━━━━━━━━━━━━\u001b[0m \u001b[32m96.0/96.0 kB\u001b[0m \u001b[31m2.1 MB/s\u001b[0m eta \u001b[36m0:00:00\u001b[0m[31m2.5 MB/s\u001b[0m eta \u001b[36m0:00:01\u001b[0m\n",
      "\u001b[?25hDownloading eth_hash-0.7.0-py3-none-any.whl (8.7 kB)\n",
      "Downloading eth_typing-4.2.3-py3-none-any.whl (18 kB)\n",
      "Installing collected packages: eth-typing, eth-hash, eth-utils, rlp\n",
      "Successfully installed eth-hash-0.7.0 eth-typing-4.2.3 eth-utils-4.1.1 rlp-4.0.1\n"
     ]
    }
   ],
   "source": [
    "!pip install pycryptodome\n",
    "!pip install rlp"
   ]
  },
  {
   "cell_type": "code",
   "execution_count": 2,
   "id": "4b5ccfe4-39a9-4d3d-9ec7-bdbace8790ef",
   "metadata": {},
   "outputs": [
    {
     "data": {
      "text/plain": [
       "b'eedb58d508112cac27f014471141d26bca015fc62bc1ffb423fdfc55653f16d1'"
      ]
     },
     "execution_count": 2,
     "metadata": {},
     "output_type": "execute_result"
    }
   ],
   "source": [
    "from hash import keccak_hash\n",
    "import binascii\n",
    "\n",
    "h = keccak_hash(b\"merkle patricia trie\")\n",
    "binascii.hexlify(h)"
   ]
  },
  {
   "cell_type": "code",
   "execution_count": 4,
   "id": "d85d4dd3-da21-46da-a07b-4b0b13e359b2",
   "metadata": {},
   "outputs": [],
   "source": [
    "from nibble_path import NibblePath\n",
    "from node import Node\n",
    "from mpt import MerklePatriciaTrie"
   ]
  }
 ],
 "metadata": {
  "kernelspec": {
   "display_name": "Python 3 (ipykernel)",
   "language": "python",
   "name": "python3"
  },
  "language_info": {
   "codemirror_mode": {
    "name": "ipython",
    "version": 3
   },
   "file_extension": ".py",
   "mimetype": "text/x-python",
   "name": "python",
   "nbconvert_exporter": "python",
   "pygments_lexer": "ipython3",
   "version": "3.12.3"
  }
 },
 "nbformat": 4,
 "nbformat_minor": 5
}
