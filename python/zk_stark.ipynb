{
 "cells": [
  {
   "cell_type": "code",
   "execution_count": 13,
   "id": "865af084-a77b-47e4-a587-dd8836315463",
   "metadata": {},
   "outputs": [],
   "source": [
    "# Polynomials\n",
    "def poly_eval(p, x):\n",
    "    v = 0\n",
    "    xi = 1\n",
    "    for c in p:\n",
    "        v += c * xi\n",
    "        xi *= x\n",
    "    return v\n",
    "\n",
    "# 0 <= P(x) <= 9 integer \n",
    "# for all 1 <= x <= 1,000,000\n",
    "\n",
    "# C(x) = x*(x-1)*...*(x-9)\n",
    "# C(x) = 0 if 0 <= x <= 9\n",
    "def c(x):\n",
    "    v = 1\n",
    "    for i in range(10):\n",
    "        v *= (x - i)\n",
    "    return v\n",
    "\n",
    "# Z(x) = (x-1)*(x-2)*...*(x-1e6)\n",
    "def z(x, n):\n",
    "    v = 1\n",
    "    for i in range(1, n + 1):\n",
    "        v *= (x - i)\n",
    "    return v\n",
    "\n",
    "# C(P(x)) = 0 for 1 <= x <= 1,000,000\n",
    "# C(P(x)) = Z(x)D(x)"
   ]
  },
  {
   "cell_type": "code",
   "execution_count": null,
   "id": "11b996db-e92a-4174-8c8b-8d0b3871f456",
   "metadata": {},
   "outputs": [],
   "source": []
  }
 ],
 "metadata": {
  "kernelspec": {
   "display_name": "Python 3 (ipykernel)",
   "language": "python",
   "name": "python3"
  },
  "language_info": {
   "codemirror_mode": {
    "name": "ipython",
    "version": 3
   },
   "file_extension": ".py",
   "mimetype": "text/x-python",
   "name": "python",
   "nbconvert_exporter": "python",
   "pygments_lexer": "ipython3",
   "version": "3.13.5"
  }
 },
 "nbformat": 4,
 "nbformat_minor": 5
}
