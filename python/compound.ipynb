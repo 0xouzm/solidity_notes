{
 "cells": [
  {
   "cell_type": "code",
   "execution_count": 1,
   "id": "9c7f98be-77e3-4f09-86aa-decc32255e14",
   "metadata": {},
   "outputs": [
    {
     "data": {
      "text/plain": [
       "104.0502"
      ]
     },
     "execution_count": 1,
     "metadata": {},
     "output_type": "execute_result"
    }
   ],
   "source": [
    "rates = [101, 102, 101]\n",
    "debt = 100\n",
    "\n",
    "for r in rates:\n",
    "    debt = debt * r / 100\n",
    "\n",
    "debt"
   ]
  }
 ],
 "metadata": {
  "kernelspec": {
   "display_name": "Python 3 (ipykernel)",
   "language": "python",
   "name": "python3"
  },
  "language_info": {
   "codemirror_mode": {
    "name": "ipython",
    "version": 3
   },
   "file_extension": ".py",
   "mimetype": "text/x-python",
   "name": "python",
   "nbconvert_exporter": "python",
   "pygments_lexer": "ipython3",
   "version": "3.10.11"
  }
 },
 "nbformat": 4,
 "nbformat_minor": 5
}
