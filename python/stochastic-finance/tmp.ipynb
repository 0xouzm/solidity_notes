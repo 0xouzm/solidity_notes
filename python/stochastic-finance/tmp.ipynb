{
 "cells": [
  {
   "cell_type": "code",
   "execution_count": null,
   "id": "1c3c480b-27e4-4661-901a-1651d8fcba51",
   "metadata": {},
   "outputs": [],
   "source": [
    "!pip install yfinance\n",
    "!pip install pandas\n",
    "!pip install requests"
   ]
  },
  {
   "cell_type": "code",
   "execution_count": null,
   "id": "26549870-e451-42c4-afa3-19f190e136e1",
   "metadata": {},
   "outputs": [],
   "source": [
    "from price import YahooFinanceAdapter\n",
    "\n",
    "adapter = YahooFinanceAdapter(\"GOOG\")\n",
    "adapter.fetch((\"2025-01-01\", \"2025-02-01\"))"
   ]
  },
  {
   "cell_type": "code",
   "execution_count": null,
   "id": "0a2a424f-f020-40e6-b99f-052539caa02b",
   "metadata": {},
   "outputs": [],
   "source": []
  },
  {
   "cell_type": "code",
   "execution_count": null,
   "id": "13f68675-a5ec-417e-a64d-38d84256deb1",
   "metadata": {},
   "outputs": [],
   "source": []
  }
 ],
 "metadata": {
  "kernelspec": {
   "display_name": "Python 3 (ipykernel)",
   "language": "python",
   "name": "python3"
  },
  "language_info": {
   "codemirror_mode": {
    "name": "ipython",
    "version": 3
   },
   "file_extension": ".py",
   "mimetype": "text/x-python",
   "name": "python",
   "nbconvert_exporter": "python",
   "pygments_lexer": "ipython3",
   "version": "3.10.11"
  }
 },
 "nbformat": 4,
 "nbformat_minor": 5
}
