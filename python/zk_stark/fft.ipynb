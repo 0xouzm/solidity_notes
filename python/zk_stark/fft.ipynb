{
 "cells": [
  {
   "cell_type": "code",
   "execution_count": 2,
   "id": "6aed3253-9988-4f85-b021-869290f1e7ca",
   "metadata": {},
   "outputs": [
    {
     "name": "stdout",
     "output_type": "stream",
     "text": [
      "w 3\n",
      "f [1, 2, 3, 4, 5, 6, 7, 8, 9, 10, 11, 12, 13, 14, 15, 16]\n",
      "ws [1, 3, 9, 10, 13, 5, 15, 11, 16, 14, 8, 7, 4, 12, 2, 6]\n",
      "e [0, 8, 2, 15, 7, 4, 6, 5, 9, 13, 12, 14, 11, 3, 16, 10]\n",
      "r [0, 8, 2, 15, 7, 4, 6, 5, 9, 13, 12, 14, 11, 3, 16, 10]\n",
      "l [0, 8, 2, 15, 7, 4, 6, 5, 9, 13, 12, 14, 11, 3, 16, 10]\n",
      "i [1, 2, 3, 4, 5, 6, 7, 8, 9, 10, 11, 12, 13, 14, 15, 16]\n",
      "f [1, 2, 3, 4, 5, 6, 7, 8, 0, 0, 0, 0, 0, 0, 0, 0]\n",
      "ys [2, 5, 1, 9, 12, 13, 3, 5, 13, 0, 6, 11, 14, 8, 8, 8]\n",
      "cs [1, 2, 3, 4, 5, 6, 7, 8, 0, 0, 0, 0, 0, 0, 0, 0]\n"
     ]
    }
   ],
   "source": [
    "from fft import fft_rec, fft, ifft, eval_poly\n",
    "\n",
    "P = 17\n",
    "N = 16\n",
    "g = 3\n",
    "\n",
    "# Primitive Nth root\n",
    "w = pow(g, (P - 1) // N, P)\n",
    "print(\"w\", w)\n",
    "# Check w is a primitive Nth root\n",
    "assert pow(w, N, P) == 1\n",
    "assert pow(w, N // 2, P) == (-1 % P)\n",
    "\n",
    "# FFT evaluation domain\n",
    "ws = [pow(w, i, P) for i in range(N)]\n",
    "\n",
    "# Example polynomial\n",
    "f = [i + 1 for i in range(N)]\n",
    "print(\"f\", f)\n",
    "print(\"ws\", ws)\n",
    "\n",
    "e = eval_poly(f, ws, P)\n",
    "r = fft_rec(f, ws, P)\n",
    "l = fft(f, ws, P)\n",
    "i = ifft(l, ws, P)\n",
    "\n",
    "print(\"e\", e)\n",
    "print(\"r\", r)\n",
    "print(\"l\", l)\n",
    "print(\"i\", i)\n",
    "assert r == e\n",
    "assert l == e\n",
    "assert i == f\n",
    "\n",
    "# Evaluate a polynomial over a domain larger than the degree of the polynomial\n",
    "f = [i + 1 for i in range(N//2)] + ([0] * (N//2))\n",
    "print(\"f\", f)\n",
    "\n",
    "ys = fft(f, ws, P)\n",
    "print(\"ys\", ys)\n",
    "\n",
    "cs = ifft(ys, ws, P)\n",
    "print(\"cs\", cs)\n",
    "assert cs == f"
   ]
  }
 ],
 "metadata": {
  "kernelspec": {
   "display_name": "Python 3 (ipykernel)",
   "language": "python",
   "name": "python3"
  },
  "language_info": {
   "codemirror_mode": {
    "name": "ipython",
    "version": 3
   },
   "file_extension": ".py",
   "mimetype": "text/x-python",
   "name": "python",
   "nbconvert_exporter": "python",
   "pygments_lexer": "ipython3",
   "version": "3.13.9"
  }
 },
 "nbformat": 4,
 "nbformat_minor": 5
}
