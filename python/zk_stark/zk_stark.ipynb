{
 "cells": [
  {
   "cell_type": "code",
   "execution_count": 1,
   "id": "5b494812-5566-4ec8-9d90-20425cd69f76",
   "metadata": {},
   "outputs": [
    {
     "name": "stdout",
     "output_type": "stream",
     "text": [
      "Generator of F[P, *] = g = 5\n",
      "Degree of trace polynomial = 1023\n",
      "Degree of constraint polynomial = 2046\n",
      "All checks passed ✅️\n",
      "CPU times: user 2.1 s, sys: 4.6 ms, total: 2.11 s\n",
      "Wall time: 1.78 s\n"
     ]
    }
   ],
   "source": [
    "%%time\n",
    "\n",
    "# Trace evaluation domain and FRI evaluation domain\n",
    "# G = trace evaluation domain\n",
    "# L = FRI evaluation domain\n",
    "# G and L are disjoint\n",
    "# |G| < |L|\n",
    "# |G| is a power of 2 (to use FFT)\n",
    "# |L| is a power of 2 (to use FFT)\n",
    "# F[P] = Prime field of order P, P is prime\n",
    "# F[P, *] = Multiplicative subgroup of F[P] = {1, 2, 3, ..., P - 1}\n",
    "# |F[P, *]| = P - 1\n",
    "# G and L are subgroups of F[P, *] -> |G| and |L| divides |F[P, *]| = P - 1\n",
    "\n",
    "import fft_poly\n",
    "import iop\n",
    "import merkle\n",
    "import numpy as np\n",
    "import polynomial\n",
    "import stark\n",
    "from fft import eval_poly, fft, ifft\n",
    "from field import F, find_generator, generate, get_primitive_root\n",
    "from polynomial import Polynomial, X\n",
    "\n",
    "from utils import is_pow2, is_prime, min_pow2_gt\n",
    "\n",
    "### Example claim = trace is all 0 or 1 ###\n",
    "T = 1024\n",
    "trace = [int(i) for i in np.random.choice([0, 1], size=T)]\n",
    "\n",
    "### Setup for evaluation domains - pick prime field and a generator ###\n",
    "# Prime field F[P]\n",
    "# Starkware prime\n",
    "# P = 2**251 + 17 * 2**192 + 1\n",
    "P = 3 * 2**30 + 1\n",
    "assert is_prime(P)\n",
    "\n",
    "# Generator of F[P, *] - multiplicative group of the prime field F[P]\n",
    "# g must be known by the prover and the verifier\n",
    "g = find_generator(P)\n",
    "print(\"Generator of F[P, *] = g =\", g)\n",
    "\n",
    "### Trace evaluation domain ###\n",
    "# Let G = trace evaluation domain\n",
    "# Find G such that |G| = T\n",
    "# T must be a power of 2 to use FFT\n",
    "# |G| must divide P - 1 so that |G| is a subgroup of F[P, *]\n",
    "assert is_pow2(T)\n",
    "assert (P - 1) % T == 0\n",
    "trace_eval_domain = generate(get_primitive_root(g, T, P), T, P)\n",
    "\n",
    "### Trace polynomial ###\n",
    "# f(x) = trace polynomial\n",
    "# f(G[i]) = trace[i]\n",
    "f = fft_poly.interp(trace, trace_eval_domain, P)\n",
    "assert fft_poly.eval(f, trace_eval_domain, P) == trace, \"f(G) != trace\"\n",
    "print(\"Degree of trace polynomial =\", f.degree())\n",
    "\n",
    "### Constraint polynomial ###\n",
    "# c(x) = constraint polynomial\n",
    "# trace[i] is either 0 or 1 -> trace[i](trace[i] - 1) = 0 for all G[i]\n",
    "#                           -> f(x)(f(x) - 1) = 0 for all G[i]\n",
    "#                           -> Set c(x) = f(x)(f(x) - 1)\n",
    "c = f * f - f\n",
    "print(\"Degree of constraint polynomial =\", c.degree())\n",
    "\n",
    "EXP_FACTOR = 8\n",
    "N = EXP_FACTOR * T\n",
    "\n",
    "prover = stark.Prover(\n",
    "    P=P,\n",
    "    g=g,\n",
    "    trace_poly=f,\n",
    "    trace_eval_domain=trace_eval_domain,\n",
    "    exp_factor=EXP_FACTOR,\n",
    "    constraint_poly=c\n",
    ")\n",
    "\n",
    "x = X(1, lambda x: F(x, P))\n",
    "\n",
    "verifier = stark.Verifier(\n",
    "    P=P,\n",
    "    g=g,\n",
    "    trace_len=T,\n",
    "    exp_factor=EXP_FACTOR,\n",
    "    constraint_poly=x * x - x\n",
    ")\n",
    "\n",
    "### Communication channels ###\n",
    "chan = iop.Channel(iop.Prover(prover), iop.Verifier(verifier))\n",
    "\n",
    "### STARK and FRI - prover commit ###\n",
    "prover.commit(chan)\n",
    "\n",
    "### STARK - verifier query ###\n",
    "# Preliminary check before queries\n",
    "verifier.check()\n",
    "\n",
    "NUM_QUERIES = 50\n",
    "assert NUM_QUERIES <= N\n",
    "\n",
    "Q = [int(i) for i in np.random.choice(range(N), size=NUM_QUERIES, replace=False)]\n",
    "for i in Q:\n",
    "    verifier.query(i, chan)\n",
    "\n",
    "### FRI - verifier query ###\n",
    "for i in Q:\n",
    "    verifier.fri().query(i, chan)\n",
    "\n",
    "print(\"All checks passed ✅️\")\n",
    "\n",
    "# TODO - attacks\n",
    "# TODO - probabilities?\n",
    "# TODO: pair f(x) and f(-x) in merkle tree?"
   ]
  },
  {
   "cell_type": "code",
   "execution_count": 1,
   "id": "a1d2261f-f71a-41ed-8914-00a140ce8ff1",
   "metadata": {},
   "outputs": [
    {
     "name": "stdout",
     "output_type": "stream",
     "text": [
      "Generator of F[P, *] = 5\n",
      "Generator of G = 1855261384\n",
      "Generator of L = 1734477367\n"
     ]
    }
   ],
   "source": [
    "# A Walk-Through of a Simple zk-STARK Proof\n",
    "\n",
    "# N = 4\n",
    "# A = [1, 0, 1, 1]\n",
    "# g = 4 mod 17\n",
    "# f(g[i]) = A[i] for i < N\n",
    "# A[i] = 0 or 1 -> A[i](A[i] - 1) = 0 for i < N -> f(g[i])^2 - f(g[i]) = 0\n",
    "# c(x) = f(x)^2 - f(x)\n",
    "# u(x) = ((x-g[0])(x - g[1])...(x - g[N - 1])) = x^N - 1\n",
    "# p(x) = c(x) / u(x)\n",
    "# p(x) is polynomial of degree <= deg(c) - N <-> c(x) = 0 for x = g[i] <-> All A[i] = 0 or 1\n",
    "\n",
    "# Query\n",
    "# Verifier checks p(x)u(x) = c(x) (query x in L - G, query x in G breaks zero knowledge)\n",
    "# 1. Verifier queries for z in L - G\n",
    "# 2. Prover sends p(z) and f(z) and Merkle proofs of p(z) and f(z)\n",
    "# 3. Verifier checks p(z)u(z) = c(z) and Merkle proofs\n",
    "\n",
    "# num queries for high probability of fraud detection\n",
    "# poly degree = d = 5\n",
    "# evaluation domain L = 100\n",
    "# num of dishonest evaluation = |L| - d = 95\n",
    "# probability of getting caught after k queries = 1 - probability of not getting caught after k queries ~ 1 - (d / |L|)^k\n",
    "\n",
    "# TODO - cheat if p is not a low degree\n",
    "# TODO - example of false trace?\n",
    "\n",
    "# Apply FRI to p"
   ]
  },
  {
   "cell_type": "code",
   "execution_count": 3,
   "id": "550b54ab-58c1-45a3-bfd2-13456c634410",
   "metadata": {},
   "outputs": [
    {
     "data": {
      "text/plain": [
       "False"
      ]
     },
     "execution_count": 3,
     "metadata": {},
     "output_type": "execute_result"
    }
   ],
   "source": [
    "set() == {}"
   ]
  },
  {
   "cell_type": "code",
   "execution_count": null,
   "id": "21216751-79d6-4efa-8b67-d2a38fcbc5db",
   "metadata": {},
   "outputs": [],
   "source": []
  }
 ],
 "metadata": {
  "kernelspec": {
   "display_name": "Python 3 (ipykernel)",
   "language": "python",
   "name": "python3"
  },
  "language_info": {
   "codemirror_mode": {
    "name": "ipython",
    "version": 3
   },
   "file_extension": ".py",
   "mimetype": "text/x-python",
   "name": "python",
   "nbconvert_exporter": "python",
   "pygments_lexer": "ipython3",
   "version": "3.13.9"
  }
 },
 "nbformat": 4,
 "nbformat_minor": 5
}
