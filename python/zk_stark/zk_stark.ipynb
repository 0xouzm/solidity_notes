{
 "cells": [
  {
   "cell_type": "code",
   "execution_count": 2,
   "id": "865af084-a77b-47e4-a587-dd8836315463",
   "metadata": {},
   "outputs": [
    {
     "data": {
      "text/plain": [
       "2"
      ]
     },
     "execution_count": 2,
     "metadata": {},
     "output_type": "execute_result"
    }
   ],
   "source": [
    "from polynomial import Polynomial, interp, zpoly\n",
    "\n",
    "p = Polynomial([-1, 0, 1])\n",
    "q = Polynomial([1, 1])\n",
    "p / q\n",
    "\n",
    "-1 % 3"
   ]
  },
  {
   "cell_type": "code",
   "execution_count": null,
   "id": "11b996db-e92a-4174-8c8b-8d0b3871f456",
   "metadata": {},
   "outputs": [],
   "source": [
    "# Polynomials\n",
    "\n",
    "\n",
    "# 0 <= P(x) <= 9 integer \n",
    "# for all 1 <= x <= 1,000,000\n",
    "\n",
    "# C(x) = x*(x-1)*...*(x-9)\n",
    "# C(x) = 0 if 0 <= x <= 9\n",
    "def c(x):\n",
    "    v = 1\n",
    "    for i in range(10):\n",
    "        v *= (x - i)\n",
    "    return v\n",
    "\n",
    "# Z(x) = (x-1)*(x-2)*...*(x-1e6)\n",
    "def z(x, n):\n",
    "    v = 1\n",
    "    for i in range(1, n + 1):\n",
    "        v *= (x - i)\n",
    "    return v\n",
    "\n",
    "# C(P(x)) = 0 for 1 <= x <= 1,000,000\n",
    "# C(P(x)) = Z(x)D(x)\n",
    "\n",
    "# Polynomial commitment\n",
    "# 1. Merkle tree of P(x) and D(x) at 1,000,000,000 points\n",
    "# 2. Verifier randomly selects 16 values between 1 and 1,000,000,000\n",
    "#    and asks the prover to provide the Merkle branches of P(x) and D(x)\n",
    "# 3. Verifier checks\n",
    "#    - Merkle proofs\n",
    "#    - C(P(x)) = Z(x)D(x), P(x) and D(x) are provided in the Merkle proof\n",
    "\n",
    "# Bivariate polynomial\n",
    "# f(x) = polynomial with degree < 1,000,000\n",
    "# Find g(x,y) such that g(x, x^1000) = f(x)\n",
    "\n",
    "# 1. Polynomial commintment on g(x, y)\n",
    "# for {(x, y^1000) for 1 <= x <= N and 1 <= y <= N}\n",
    "# N = 1,000,000,000\n",
    "\n",
    "# 2. Verifier picks randomly picks a few rows and columns\n",
    "#    and for each row and column, asks for a few sample of points\n",
    "#    one point in the sample is on the diagnol (x, x^1000)\n",
    "\n",
    "# 3. Prover replies with does points and Merkle proofs\n",
    "\n",
    "# TODO: why use bivariate polynomials?\n",
    "# 4. - Verifier checks Merkle proofs\n",
    "#    - Check polynomial corresponds to a low degree polynomial.\n",
    "#      Degree less than number of samples requested."
   ]
  }
 ],
 "metadata": {
  "kernelspec": {
   "display_name": "Python 3 (ipykernel)",
   "language": "python",
   "name": "python3"
  },
  "language_info": {
   "codemirror_mode": {
    "name": "ipython",
    "version": 3
   },
   "file_extension": ".py",
   "mimetype": "text/x-python",
   "name": "python",
   "nbconvert_exporter": "python",
   "pygments_lexer": "ipython3",
   "version": "3.13.5"
  }
 },
 "nbformat": 4,
 "nbformat_minor": 5
}
