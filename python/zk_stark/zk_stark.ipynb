{
 "cells": [
  {
   "cell_type": "code",
   "execution_count": 1,
   "id": "5b494812-5566-4ec8-9d90-20425cd69f76",
   "metadata": {},
   "outputs": [
    {
     "name": "stdout",
     "output_type": "stream",
     "text": [
      "Generator of F[P, *] = g = 5\n",
      "Degree of trace polynomial = 1023\n",
      "Degree of constraint polynomial = 2046\n",
      "All checks passed ✅️\n",
      "CPU times: user 3.51 s, sys: 50.9 ms, total: 3.56 s\n",
      "Wall time: 3.11 s\n"
     ]
    }
   ],
   "source": [
    "%%time\n",
    "\n",
    "# Trace evaluation domain and FRI evaluation domain\n",
    "# G = trace evaluation domain\n",
    "# L = FRI evaluation domain\n",
    "# G and L are disjoint\n",
    "# |G| < |L|\n",
    "# |G| is a power of 2 (to use FFT)\n",
    "# |L| is a power of 2 (to use FFT)\n",
    "# F[P] = Prime field of order P, P is prime\n",
    "# F[P, *] = Multiplicative subgroup of F[P] = {1, 2, 3, ..., P - 1}\n",
    "# |F[P, *]| = P - 1\n",
    "# G and L are subgroups of F[P, *] -> |G| and |L| divides |F[P, *]| = P - 1\n",
    "\n",
    "import fft_poly\n",
    "import iop\n",
    "import merkle\n",
    "import numpy as np\n",
    "import polynomial\n",
    "import stark\n",
    "from fft import eval_poly, fft, ifft\n",
    "from field import F, find_generator, generate, get_primitive_root\n",
    "from polynomial import Polynomial, X\n",
    "\n",
    "from utils import is_pow2, is_prime, min_pow2_gt\n",
    "\n",
    "### Example claim = trace is all 0 or 1 ###\n",
    "T = 1024\n",
    "trace = [int(i) for i in np.random.choice([0, 1], size=T)]\n",
    "\n",
    "### Setup for evaluation domains - pick prime field and a generator ###\n",
    "# Prime field F[P]\n",
    "# Starkware prime\n",
    "# P = 2**251 + 17 * 2**192 + 1\n",
    "P = 3 * 2**30 + 1\n",
    "assert is_prime(P)\n",
    "\n",
    "# Generator of F[P, *] - multiplicative group of the prime field F[P]\n",
    "# g must be known by the prover and the verifier\n",
    "g = find_generator(P)\n",
    "print(\"Generator of F[P, *] = g =\", g)\n",
    "\n",
    "### Trace evaluation domain ###\n",
    "# Let G = trace evaluation domain\n",
    "# Find G such that |G| = T\n",
    "# T must be a power of 2 to use FFT\n",
    "# |G| must divide P - 1 so that |G| is a subgroup of F[P, *]\n",
    "assert is_pow2(T)\n",
    "assert (P - 1) % T == 0\n",
    "trace_eval_domain = generate(get_primitive_root(g, T, P), T, P)\n",
    "\n",
    "### Trace polynomial ###\n",
    "# f(x) = trace polynomial\n",
    "# f(G[i]) = trace[i]\n",
    "f = fft_poly.interp(trace, trace_eval_domain, P)\n",
    "assert fft_poly.eval(f, trace_eval_domain, P) == trace, \"f(G) != trace\"\n",
    "print(\"Degree of trace polynomial =\", f.degree())\n",
    "\n",
    "### Constraint polynomial ###\n",
    "# c(x) = constraint polynomial\n",
    "# trace[i] is either 0 or 1 -> trace[i](trace[i] - 1) = 0 for all G[i]\n",
    "#                           -> f(x)(f(x) - 1) = 0 for all G[i]\n",
    "#                           -> Set c(x) = f(x)(f(x) - 1)\n",
    "c = f * f - f\n",
    "print(\"Degree of constraint polynomial =\", c.degree())\n",
    "# Degree of f < T so degree of c < 2 * T\n",
    "constraint_eval_domain = generate(get_primitive_root(g, 2 * T, P), 2 * T, P)\n",
    "\n",
    "EXP_FACTOR = 8\n",
    "N = EXP_FACTOR * T\n",
    "\n",
    "prover = stark.Prover(\n",
    "    P=P,\n",
    "    g=g,\n",
    "    trace_poly=f,\n",
    "    trace_eval_domain=trace_eval_domain,\n",
    "    exp_factor=EXP_FACTOR,\n",
    "    constraint_poly=c,\n",
    "    constraint_eval_domain=constraint_eval_domain,\n",
    ")\n",
    "\n",
    "x = X(1, lambda x: F(x, P))\n",
    "\n",
    "verifier = stark.Verifier(\n",
    "    P=P,\n",
    "    g=g,\n",
    "    trace_len=T,\n",
    "    exp_factor=EXP_FACTOR,\n",
    "    constraint_poly=x * x - x,\n",
    ")\n",
    "\n",
    "### Communication channels ###\n",
    "# Prover to verifier channel\n",
    "p_chan = iop.Channel(iop.Verifier(verifier))\n",
    "# Verifier to prover channel\n",
    "v_chan = iop.Channel(iop.Prover(prover))\n",
    "\n",
    "### STARK and FRI - prover commit ###\n",
    "prover.commit(p_chan)\n",
    "\n",
    "### STARK - verifier query ###\n",
    "# Preliminary check before queries\n",
    "verifier.check()\n",
    "\n",
    "NUM_QUERIES = 50\n",
    "assert NUM_QUERIES <= N\n",
    "\n",
    "Q = [int(i) for i in np.random.choice(range(N), size=NUM_QUERIES, replace=False)]\n",
    "for i in Q:\n",
    "    verifier.query(i, v_chan)\n",
    "\n",
    "### FRI - verifier query ###\n",
    "for i in Q:\n",
    "    verifier.fri().query(i, v_chan)\n",
    "\n",
    "print(\"All checks passed ✅️\")\n",
    "\n",
    "# TODO - attacks\n",
    "# TODO - probabilities?\n",
    "# TODO: pair f(x) and f(-x) in merkle tree?"
   ]
  },
  {
   "cell_type": "code",
   "execution_count": 1,
   "id": "a1d2261f-f71a-41ed-8914-00a140ce8ff1",
   "metadata": {},
   "outputs": [
    {
     "name": "stdout",
     "output_type": "stream",
     "text": [
      "Generator of F[P, *] = 5\n",
      "Generator of G = 1855261384\n",
      "Generator of L = 1734477367\n"
     ]
    }
   ],
   "source": [
    "# A Walk-Through of a Simple zk-STARK Proof\n",
    "\n",
    "# N = 4\n",
    "# A = [1, 0, 1, 1]\n",
    "# g = 4 mod 17\n",
    "# f(g[i]) = A[i] for i < N\n",
    "# A[i] = 0 or 1 -> A[i](A[i] - 1) = 0 for i < N -> f(g[i])^2 - f(g[i]) = 0\n",
    "# c(x) = f(x)^2 - f(x)\n",
    "# u(x) = ((x-g[0])(x - g[1])...(x - g[N - 1])) = x^N - 1\n",
    "# p(x) = c(x) / u(x)\n",
    "# p(x) is polynomial of degree <= deg(c) - N <-> c(x) = 0 for x = g[i] <-> All A[i] = 0 or 1\n",
    "\n",
    "# Query\n",
    "# Verifier checks p(x)u(x) = c(x) (query x in L - G, query x in G breaks zero knowledge)\n",
    "# 1. Verifier queries for z in L - G\n",
    "# 2. Prover sends p(z) and f(z) and Merkle proofs of p(z) and f(z)\n",
    "# 3. Verifier checks p(z)u(z) = c(z) and Merkle proofs\n",
    "\n",
    "# num queries for high probability of fraud detection\n",
    "# poly degree = d = 5\n",
    "# evaluation domain L = 100\n",
    "# num of dishonest evaluation = |L| - d = 95\n",
    "# probability of getting caught after k queries = 1 - probability of not getting caught after k queries ~ 1 - (d / |L|)^k\n",
    "\n",
    "# TODO - cheat if p is not a low degree\n",
    "# TODO - example of false trace?\n",
    "\n",
    "# Apply FRI to p"
   ]
  },
  {
   "cell_type": "code",
   "execution_count": 4,
   "id": "12f5fb31-3346-4d1f-87d6-a007f0898cf9",
   "metadata": {},
   "outputs": [
    {
     "ename": "AssertionError",
     "evalue": "x = 1",
     "output_type": "error",
     "traceback": [
      "\u001b[31m---------------------------------------------------------------------------\u001b[39m",
      "\u001b[31mAssertionError\u001b[39m                            Traceback (most recent call last)",
      "\u001b[36mCell\u001b[39m\u001b[36m \u001b[39m\u001b[32mIn[4]\u001b[39m\u001b[32m, line 1\u001b[39m\n\u001b[32m----> \u001b[39m\u001b[32m1\u001b[39m \u001b[38;5;28;01massert\u001b[39;00m (x := \u001b[32m1\u001b[39m) == \u001b[32m2\u001b[39m, \u001b[33mf\u001b[39m\u001b[33m\"\u001b[39m\u001b[33mx = \u001b[39m\u001b[38;5;132;01m{\u001b[39;00mx\u001b[38;5;132;01m}\u001b[39;00m\u001b[33m\"\u001b[39m\n",
      "\u001b[31mAssertionError\u001b[39m: x = 1"
     ]
    }
   ],
   "source": [
    "assert (x := 1) == 2, f\"x = {x}\""
   ]
  },
  {
   "cell_type": "code",
   "execution_count": 7,
   "id": "d77c946e-2784-4dd4-b831-49aa1f772680",
   "metadata": {},
   "outputs": [
    {
     "ename": "AssertionError",
     "evalue": "intersection = {3}",
     "output_type": "error",
     "traceback": [
      "\u001b[31m---------------------------------------------------------------------------\u001b[39m",
      "\u001b[31mAssertionError\u001b[39m                            Traceback (most recent call last)",
      "\u001b[36mCell\u001b[39m\u001b[36m \u001b[39m\u001b[32mIn[7]\u001b[39m\u001b[32m, line 4\u001b[39m\n\u001b[32m      1\u001b[39m A = \u001b[38;5;28mset\u001b[39m([\u001b[32m1\u001b[39m, \u001b[32m2\u001b[39m, \u001b[32m3\u001b[39m])\n\u001b[32m      2\u001b[39m B = \u001b[38;5;28mset\u001b[39m([\u001b[32m3\u001b[39m, \u001b[32m4\u001b[39m, \u001b[32m5\u001b[39m])\n\u001b[32m----> \u001b[39m\u001b[32m4\u001b[39m \u001b[38;5;28;01massert\u001b[39;00m (intersection := A & B) == {}, \u001b[33mf\u001b[39m\u001b[33m\"\u001b[39m\u001b[33mintersection = \u001b[39m\u001b[38;5;132;01m{\u001b[39;00mintersection\u001b[38;5;132;01m}\u001b[39;00m\u001b[33m\"\u001b[39m\n",
      "\u001b[31mAssertionError\u001b[39m: intersection = {3}"
     ]
    }
   ],
   "source": [
    "A = set([1, 2, 3])\n",
    "B = set([3, 4, 5])\n",
    "\n",
    "assert (intersection := A & B) == {}, f\"intersection = {intersection}\""
   ]
  },
  {
   "cell_type": "code",
   "execution_count": null,
   "id": "50cd247e-4c23-4871-be83-56bd60c00e0a",
   "metadata": {},
   "outputs": [],
   "source": []
  }
 ],
 "metadata": {
  "kernelspec": {
   "display_name": "Python 3 (ipykernel)",
   "language": "python",
   "name": "python3"
  },
  "language_info": {
   "codemirror_mode": {
    "name": "ipython",
    "version": 3
   },
   "file_extension": ".py",
   "mimetype": "text/x-python",
   "name": "python",
   "nbconvert_exporter": "python",
   "pygments_lexer": "ipython3",
   "version": "3.13.9"
  }
 },
 "nbformat": 4,
 "nbformat_minor": 5
}
