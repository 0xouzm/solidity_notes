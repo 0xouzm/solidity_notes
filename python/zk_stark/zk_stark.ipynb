{
 "cells": [
  {
   "cell_type": "code",
   "execution_count": 3,
   "id": "865af084-a77b-47e4-a587-dd8836315463",
   "metadata": {},
   "outputs": [
    {
     "name": "stdout",
     "output_type": "stream",
     "text": [
      "559aead08264d5795d3909718cdd05abd49572e84fe55590eef31a88a08fdffd\n",
      "df7e70e5021544f4834bbee64a9e3789febc4be81470df629cad6ddb03320a5c\n",
      "6b23c0d5f35d1b11f9b683f0b0a617355deb11277d91ae091d399c655b87940d\n",
      "3f39d5c348e5b79d06e842c114e6cc571583bbf44e4b0ebfda1a01ec05745d43\n",
      "a9f51566bd6705f7ea6ad54bb9deb449f795582d6529a0e22207b8981233ec58\n",
      "root 2db1790243fe117685d21ed0ff5005d9832e5f32bf5b2b02cddf0f07a34421b2\n"
     ]
    },
    {
     "data": {
      "text/plain": [
       "True"
      ]
     },
     "execution_count": 3,
     "metadata": {},
     "output_type": "execute_result"
    }
   ],
   "source": [
    "# from polynomial import Polynomial, interp, zpoly\n",
    "\n",
    "# p = Polynomial([-1, 0, 1])\n",
    "# q = Polynomial([1, 1])\n",
    "# p / q\n",
    "\n",
    "# -1 % 3\n",
    "\n",
    "import merkle\n",
    "\n",
    "ls = [\"A\", \"B\", \"C\", \"D\", \"E\"]\n",
    "hs = [merkle.hash_leaf(l) for l in ls]\n",
    "\n",
    "for h in hs:\n",
    "    print(h)\n",
    "\n",
    "root = merkle.commit(hs)\n",
    "print(\"root\", root)\n",
    "\n",
    "i = 2\n",
    "proof = merkle.open(hs, i)\n",
    "merkle.verify(proof, root, hs[i], i)"
   ]
  },
  {
   "cell_type": "code",
   "execution_count": null,
   "id": "11b996db-e92a-4174-8c8b-8d0b3871f456",
   "metadata": {},
   "outputs": [],
   "source": [
    "# Polynomials\n",
    "\n",
    "# 0 <= P(x) <= 9 integer \n",
    "# for all 1 <= x <= 1,000,000\n",
    "\n",
    "# C(x) = x*(x-1)*...*(x-9)\n",
    "# C(x) = 0 if 0 <= x <= 9\n",
    "def c(x):\n",
    "    v = 1\n",
    "    for i in range(10):\n",
    "        v *= (x - i)\n",
    "    return v\n",
    "\n",
    "# Z(x) = (x-1)*(x-2)*...*(x-1e6)\n",
    "def z(x, n):\n",
    "    v = 1\n",
    "    for i in range(1, n + 1):\n",
    "        v *= (x - i)\n",
    "    return v\n",
    "\n",
    "# C(P(x)) = 0 for 1 <= x <= 1,000,000\n",
    "# C(P(x)) = Z(x)D(x)\n",
    "\n",
    "# Polynomial commitment\n",
    "# 1. Merkle tree of P(x) and D(x) at 1,000,000,000 points\n",
    "# 2. Verifier randomly selects 16 values between 1 and 1,000,000,000\n",
    "#    and asks the prover to provide the Merkle branches of P(x) and D(x)\n",
    "# 3. Verifier checks\n",
    "#    - Merkle proofs\n",
    "#    - C(P(x)) = Z(x)D(x), P(x) and D(x) are provided in the Merkle proof\n",
    "\n",
    "# Bivariate polynomial\n",
    "# f(x) = polynomial with degree < 1,000,000\n",
    "# Find g(x,y) such that g(x, x^1000) = f(x)\n",
    "\n",
    "# 1. Polynomial commintment on g(x, y)\n",
    "# for {(x, y^1000) for 1 <= x <= N and 1 <= y <= N}\n",
    "# N = 1,000,000,000\n",
    "\n",
    "# 2. Verifier picks randomly picks a few rows and columns\n",
    "#    and for each row and column, asks for a few sample of points\n",
    "#    one point in the sample is on the diagnol (x, x^1000)\n",
    "\n",
    "# 3. Prover replies with does points and Merkle proofs\n",
    "\n",
    "# TODO: why use bivariate polynomials?\n",
    "# 4. - Verifier checks Merkle proofs\n",
    "#    - Check polynomial corresponds to a low degree polynomial.\n",
    "#      Degree less than number of samples requested."
   ]
  }
 ],
 "metadata": {
  "kernelspec": {
   "display_name": "Python 3 (ipykernel)",
   "language": "python",
   "name": "python3"
  },
  "language_info": {
   "codemirror_mode": {
    "name": "ipython",
    "version": 3
   },
   "file_extension": ".py",
   "mimetype": "text/x-python",
   "name": "python",
   "nbconvert_exporter": "python",
   "pygments_lexer": "ipython3",
   "version": "3.13.7"
  }
 },
 "nbformat": 4,
 "nbformat_minor": 5
}
